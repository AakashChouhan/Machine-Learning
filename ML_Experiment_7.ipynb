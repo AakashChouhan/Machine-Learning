{
  "nbformat": 4,
  "nbformat_minor": 0,
  "metadata": {
    "colab": {
      "provenance": [],
      "authorship_tag": "ABX9TyO8xVKCf+o1kRbEHLMsFxFR",
      "include_colab_link": true
    },
    "kernelspec": {
      "name": "python3",
      "display_name": "Python 3"
    },
    "language_info": {
      "name": "python"
    }
  },
  "cells": [
    {
      "cell_type": "markdown",
      "metadata": {
        "id": "view-in-github",
        "colab_type": "text"
      },
      "source": [
        "<a href=\"https://colab.research.google.com/github/AakashChouhan/Machine-Learning/blob/main/ML_Experiment_7.ipynb\" target=\"_parent\"><img src=\"https://colab.research.google.com/assets/colab-badge.svg\" alt=\"Open In Colab\"/></a>"
      ]
    },
    {
      "cell_type": "code",
      "execution_count": 1,
      "metadata": {
        "colab": {
          "base_uri": "https://localhost:8080/"
        },
        "id": "6X5h7mJNo5Yj",
        "outputId": "927c5abf-e86a-4963-cdf8-24d5ff4a23b1"
      },
      "outputs": [
        {
          "output_type": "stream",
          "name": "stdout",
          "text": [
            "Downloading data from https://storage.googleapis.com/tensorflow/tf-keras-datasets/mnist.npz\n",
            "11490434/11490434 [==============================] - 0s 0us/step\n"
          ]
        }
      ],
      "source": [
        "from keras.datasets import mnist\n",
        "(train_images, train_labels), (test_images, test_labels) = mnist.load_data()\n"
      ]
    },
    {
      "cell_type": "code",
      "source": [
        "train_images.shape\n",
        "len(train_labels)\n",
        "train_labels\n",
        "test_images.shape\n",
        "len(test_labels)\n",
        "test_labels\n"
      ],
      "metadata": {
        "colab": {
          "base_uri": "https://localhost:8080/"
        },
        "id": "OO1YSA3HpM3a",
        "outputId": "e38a2772-12c1-45e5-b301-0e214f23e591"
      },
      "execution_count": 2,
      "outputs": [
        {
          "output_type": "execute_result",
          "data": {
            "text/plain": [
              "array([7, 2, 1, ..., 4, 5, 6], dtype=uint8)"
            ]
          },
          "metadata": {},
          "execution_count": 2
        }
      ]
    },
    {
      "cell_type": "code",
      "source": [
        "from keras import models\n",
        "from keras import layers\n",
        "network = models.Sequential()\n",
        "# Dense(32) is a fully-connected layer with 32 hidden units.\n",
        "# in the first layer, you must specify the expected input data shape :\n",
        "# here, 28 X 28=784 -dimensional vectors.\n",
        "network.add(layers.Dense(32, activation='sigmoid', input_shape=(28 * 28, )))\n",
        "network.add(layers.Dense(8, activation='sigmoid'))\n",
        "network.add(layers.Dense(10, activation='softmax'))\n",
        "network.summary()\n",
        "from google.colab import drive\n",
        "drive.mount('/content/drive')\n"
      ],
      "metadata": {
        "colab": {
          "base_uri": "https://localhost:8080/"
        },
        "id": "IKCf3XfUpRRx",
        "outputId": "33e2c4c2-d779-497f-d534-3a6642f195d5"
      },
      "execution_count": 3,
      "outputs": [
        {
          "output_type": "stream",
          "name": "stdout",
          "text": [
            "Model: \"sequential\"\n",
            "_________________________________________________________________\n",
            " Layer (type)                Output Shape              Param #   \n",
            "=================================================================\n",
            " dense (Dense)               (None, 32)                25120     \n",
            "                                                                 \n",
            " dense_1 (Dense)             (None, 8)                 264       \n",
            "                                                                 \n",
            " dense_2 (Dense)             (None, 10)                90        \n",
            "                                                                 \n",
            "=================================================================\n",
            "Total params: 25,474\n",
            "Trainable params: 25,474\n",
            "Non-trainable params: 0\n",
            "_________________________________________________________________\n",
            "Mounted at /content/drive\n"
          ]
        }
      ]
    },
    {
      "cell_type": "code",
      "source": [
        "network.compile(optimizer='sgd',\n",
        "                loss='categorical_crossentropy',\n",
        "                metrics=['accuracy'])\n"
      ],
      "metadata": {
        "id": "jYVqYDeUpZ8p"
      },
      "execution_count": 4,
      "outputs": []
    },
    {
      "cell_type": "code",
      "source": [
        "train_images = train_images.reshape((60000, 28 * 28))\n",
        "train_images = train_images.astype('float32') / 255.\n",
        "test_images = test_images.reshape((10000, 28 * 28))\n",
        "test_images = test_images.astype('float32') / 255."
      ],
      "metadata": {
        "id": "zM7bqEiwpew5"
      },
      "execution_count": 5,
      "outputs": []
    },
    {
      "cell_type": "code",
      "source": [
        "from keras.utils import to_categorical\n",
        "train_labels = to_categorical(train_labels)\n",
        "train_labels\n",
        "test_labels = to_categorical(test_labels)\n",
        "test_labels\n"
      ],
      "metadata": {
        "colab": {
          "base_uri": "https://localhost:8080/"
        },
        "id": "YyYNGsuEpip_",
        "outputId": "0270dea8-6bf7-416e-de11-3c1473f60cf0"
      },
      "execution_count": 6,
      "outputs": [
        {
          "output_type": "execute_result",
          "data": {
            "text/plain": [
              "array([[0., 0., 0., ..., 1., 0., 0.],\n",
              "       [0., 0., 1., ..., 0., 0., 0.],\n",
              "       [0., 1., 0., ..., 0., 0., 0.],\n",
              "       ...,\n",
              "       [0., 0., 0., ..., 0., 0., 0.],\n",
              "       [0., 0., 0., ..., 0., 0., 0.],\n",
              "       [0., 0., 0., ..., 0., 0., 0.]], dtype=float32)"
            ]
          },
          "metadata": {},
          "execution_count": 6
        }
      ]
    },
    {
      "cell_type": "code",
      "source": [
        "network.fit(train_images, train_labels, epochs=160, batch_size=512)\n"
      ],
      "metadata": {
        "colab": {
          "base_uri": "https://localhost:8080/"
        },
        "id": "wfKGs2_bpmhD",
        "outputId": "22db2646-93cc-4c16-ee31-935b4b0dd41e"
      },
      "execution_count": 8,
      "outputs": [
        {
          "output_type": "stream",
          "name": "stdout",
          "text": [
            "Epoch 1/160\n",
            "118/118 [==============================] - 1s 8ms/step - loss: 0.6401 - accuracy: 0.8470\n",
            "Epoch 2/160\n",
            "118/118 [==============================] - 1s 8ms/step - loss: 0.6364 - accuracy: 0.8479\n",
            "Epoch 3/160\n",
            "118/118 [==============================] - 1s 8ms/step - loss: 0.6328 - accuracy: 0.8488\n",
            "Epoch 4/160\n",
            "118/118 [==============================] - 1s 7ms/step - loss: 0.6293 - accuracy: 0.8497\n",
            "Epoch 5/160\n",
            "118/118 [==============================] - 1s 5ms/step - loss: 0.6257 - accuracy: 0.8503\n",
            "Epoch 6/160\n",
            "118/118 [==============================] - 1s 5ms/step - loss: 0.6223 - accuracy: 0.8512\n",
            "Epoch 7/160\n",
            "118/118 [==============================] - 1s 5ms/step - loss: 0.6189 - accuracy: 0.8521\n",
            "Epoch 8/160\n",
            "118/118 [==============================] - 1s 5ms/step - loss: 0.6155 - accuracy: 0.8526\n",
            "Epoch 9/160\n",
            "118/118 [==============================] - 1s 5ms/step - loss: 0.6121 - accuracy: 0.8535\n",
            "Epoch 10/160\n",
            "118/118 [==============================] - 1s 5ms/step - loss: 0.6089 - accuracy: 0.8539\n",
            "Epoch 11/160\n",
            "118/118 [==============================] - 1s 5ms/step - loss: 0.6056 - accuracy: 0.8547\n",
            "Epoch 12/160\n",
            "118/118 [==============================] - 1s 5ms/step - loss: 0.6024 - accuracy: 0.8554\n",
            "Epoch 13/160\n",
            "118/118 [==============================] - 1s 5ms/step - loss: 0.5993 - accuracy: 0.8560\n",
            "Epoch 14/160\n",
            "118/118 [==============================] - 1s 5ms/step - loss: 0.5962 - accuracy: 0.8567\n",
            "Epoch 15/160\n",
            "118/118 [==============================] - 1s 5ms/step - loss: 0.5931 - accuracy: 0.8574\n",
            "Epoch 16/160\n",
            "118/118 [==============================] - 1s 5ms/step - loss: 0.5901 - accuracy: 0.8580\n",
            "Epoch 17/160\n",
            "118/118 [==============================] - 1s 5ms/step - loss: 0.5871 - accuracy: 0.8585\n",
            "Epoch 18/160\n",
            "118/118 [==============================] - 1s 5ms/step - loss: 0.5842 - accuracy: 0.8591\n",
            "Epoch 19/160\n",
            "118/118 [==============================] - 1s 5ms/step - loss: 0.5813 - accuracy: 0.8595\n",
            "Epoch 20/160\n",
            "118/118 [==============================] - 1s 5ms/step - loss: 0.5784 - accuracy: 0.8605\n",
            "Epoch 21/160\n",
            "118/118 [==============================] - 1s 6ms/step - loss: 0.5756 - accuracy: 0.8608\n",
            "Epoch 22/160\n",
            "118/118 [==============================] - 1s 8ms/step - loss: 0.5729 - accuracy: 0.8615\n",
            "Epoch 23/160\n",
            "118/118 [==============================] - 1s 7ms/step - loss: 0.5701 - accuracy: 0.8622\n",
            "Epoch 24/160\n",
            "118/118 [==============================] - 1s 7ms/step - loss: 0.5674 - accuracy: 0.8626\n",
            "Epoch 25/160\n",
            "118/118 [==============================] - 1s 8ms/step - loss: 0.5648 - accuracy: 0.8632\n",
            "Epoch 26/160\n",
            "118/118 [==============================] - 1s 8ms/step - loss: 0.5621 - accuracy: 0.8637\n",
            "Epoch 27/160\n",
            "118/118 [==============================] - 1s 5ms/step - loss: 0.5596 - accuracy: 0.8639\n",
            "Epoch 28/160\n",
            "118/118 [==============================] - 1s 5ms/step - loss: 0.5570 - accuracy: 0.8645\n",
            "Epoch 29/160\n",
            "118/118 [==============================] - 1s 5ms/step - loss: 0.5545 - accuracy: 0.8651\n",
            "Epoch 30/160\n",
            "118/118 [==============================] - 1s 5ms/step - loss: 0.5520 - accuracy: 0.8655\n",
            "Epoch 31/160\n",
            "118/118 [==============================] - 1s 5ms/step - loss: 0.5496 - accuracy: 0.8659\n",
            "Epoch 32/160\n",
            "118/118 [==============================] - 1s 5ms/step - loss: 0.5472 - accuracy: 0.8665\n",
            "Epoch 33/160\n",
            "118/118 [==============================] - 1s 5ms/step - loss: 0.5448 - accuracy: 0.8667\n",
            "Epoch 34/160\n",
            "118/118 [==============================] - 1s 5ms/step - loss: 0.5425 - accuracy: 0.8673\n",
            "Epoch 35/160\n",
            "118/118 [==============================] - 1s 5ms/step - loss: 0.5402 - accuracy: 0.8680\n",
            "Epoch 36/160\n",
            "118/118 [==============================] - 1s 5ms/step - loss: 0.5379 - accuracy: 0.8684\n",
            "Epoch 37/160\n",
            "118/118 [==============================] - 1s 5ms/step - loss: 0.5356 - accuracy: 0.8688\n",
            "Epoch 38/160\n",
            "118/118 [==============================] - 1s 5ms/step - loss: 0.5334 - accuracy: 0.8694\n",
            "Epoch 39/160\n",
            "118/118 [==============================] - 1s 5ms/step - loss: 0.5312 - accuracy: 0.8699\n",
            "Epoch 40/160\n",
            "118/118 [==============================] - 1s 5ms/step - loss: 0.5291 - accuracy: 0.8699\n",
            "Epoch 41/160\n",
            "118/118 [==============================] - 1s 5ms/step - loss: 0.5269 - accuracy: 0.8704\n",
            "Epoch 42/160\n",
            "118/118 [==============================] - 1s 5ms/step - loss: 0.5248 - accuracy: 0.8708\n",
            "Epoch 43/160\n",
            "118/118 [==============================] - 1s 6ms/step - loss: 0.5227 - accuracy: 0.8715\n",
            "Epoch 44/160\n",
            "118/118 [==============================] - 1s 8ms/step - loss: 0.5207 - accuracy: 0.8718\n",
            "Epoch 45/160\n",
            "118/118 [==============================] - 1s 8ms/step - loss: 0.5187 - accuracy: 0.8726\n",
            "Epoch 46/160\n",
            "118/118 [==============================] - 1s 8ms/step - loss: 0.5167 - accuracy: 0.8728\n",
            "Epoch 47/160\n",
            "118/118 [==============================] - 1s 7ms/step - loss: 0.5147 - accuracy: 0.8730\n",
            "Epoch 48/160\n",
            "118/118 [==============================] - 1s 8ms/step - loss: 0.5128 - accuracy: 0.8735\n",
            "Epoch 49/160\n",
            "118/118 [==============================] - 1s 5ms/step - loss: 0.5109 - accuracy: 0.8738\n",
            "Epoch 50/160\n",
            "118/118 [==============================] - 1s 5ms/step - loss: 0.5090 - accuracy: 0.8743\n",
            "Epoch 51/160\n",
            "118/118 [==============================] - 1s 5ms/step - loss: 0.5071 - accuracy: 0.8746\n",
            "Epoch 52/160\n",
            "118/118 [==============================] - 1s 5ms/step - loss: 0.5053 - accuracy: 0.8749\n",
            "Epoch 53/160\n",
            "118/118 [==============================] - 1s 5ms/step - loss: 0.5034 - accuracy: 0.8752\n",
            "Epoch 54/160\n",
            "118/118 [==============================] - 1s 5ms/step - loss: 0.5016 - accuracy: 0.8755\n",
            "Epoch 55/160\n",
            "118/118 [==============================] - 1s 5ms/step - loss: 0.4999 - accuracy: 0.8758\n",
            "Epoch 56/160\n",
            "118/118 [==============================] - 1s 5ms/step - loss: 0.4981 - accuracy: 0.8760\n",
            "Epoch 57/160\n",
            "118/118 [==============================] - 1s 5ms/step - loss: 0.4964 - accuracy: 0.8764\n",
            "Epoch 58/160\n",
            "118/118 [==============================] - 1s 5ms/step - loss: 0.4946 - accuracy: 0.8769\n",
            "Epoch 59/160\n",
            "118/118 [==============================] - 1s 5ms/step - loss: 0.4930 - accuracy: 0.8773\n",
            "Epoch 60/160\n",
            "118/118 [==============================] - 1s 5ms/step - loss: 0.4913 - accuracy: 0.8778\n",
            "Epoch 61/160\n",
            "118/118 [==============================] - 1s 5ms/step - loss: 0.4896 - accuracy: 0.8780\n",
            "Epoch 62/160\n",
            "118/118 [==============================] - 1s 5ms/step - loss: 0.4880 - accuracy: 0.8785\n",
            "Epoch 63/160\n",
            "118/118 [==============================] - 1s 5ms/step - loss: 0.4864 - accuracy: 0.8788\n",
            "Epoch 64/160\n",
            "118/118 [==============================] - 1s 5ms/step - loss: 0.4848 - accuracy: 0.8789\n",
            "Epoch 65/160\n",
            "118/118 [==============================] - 1s 6ms/step - loss: 0.4832 - accuracy: 0.8794\n",
            "Epoch 66/160\n",
            "118/118 [==============================] - 1s 8ms/step - loss: 0.4817 - accuracy: 0.8795\n",
            "Epoch 67/160\n",
            "118/118 [==============================] - 1s 8ms/step - loss: 0.4801 - accuracy: 0.8799\n",
            "Epoch 68/160\n",
            "118/118 [==============================] - 1s 8ms/step - loss: 0.4786 - accuracy: 0.8800\n",
            "Epoch 69/160\n",
            "118/118 [==============================] - 1s 8ms/step - loss: 0.4771 - accuracy: 0.8803\n",
            "Epoch 70/160\n",
            "118/118 [==============================] - 1s 8ms/step - loss: 0.4756 - accuracy: 0.8806\n",
            "Epoch 71/160\n",
            "118/118 [==============================] - 1s 5ms/step - loss: 0.4741 - accuracy: 0.8809\n",
            "Epoch 72/160\n",
            "118/118 [==============================] - 1s 5ms/step - loss: 0.4727 - accuracy: 0.8812\n",
            "Epoch 73/160\n",
            "118/118 [==============================] - 1s 5ms/step - loss: 0.4712 - accuracy: 0.8817\n",
            "Epoch 74/160\n",
            "118/118 [==============================] - 1s 5ms/step - loss: 0.4698 - accuracy: 0.8818\n",
            "Epoch 75/160\n",
            "118/118 [==============================] - 1s 5ms/step - loss: 0.4684 - accuracy: 0.8820\n",
            "Epoch 76/160\n",
            "118/118 [==============================] - 1s 5ms/step - loss: 0.4670 - accuracy: 0.8823\n",
            "Epoch 77/160\n",
            "118/118 [==============================] - 1s 5ms/step - loss: 0.4656 - accuracy: 0.8824\n",
            "Epoch 78/160\n",
            "118/118 [==============================] - 1s 5ms/step - loss: 0.4642 - accuracy: 0.8826\n",
            "Epoch 79/160\n",
            "118/118 [==============================] - 1s 5ms/step - loss: 0.4629 - accuracy: 0.8830\n",
            "Epoch 80/160\n",
            "118/118 [==============================] - 1s 5ms/step - loss: 0.4615 - accuracy: 0.8830\n",
            "Epoch 81/160\n",
            "118/118 [==============================] - 1s 5ms/step - loss: 0.4602 - accuracy: 0.8834\n",
            "Epoch 82/160\n",
            "118/118 [==============================] - 1s 5ms/step - loss: 0.4589 - accuracy: 0.8835\n",
            "Epoch 83/160\n",
            "118/118 [==============================] - 1s 5ms/step - loss: 0.4576 - accuracy: 0.8838\n",
            "Epoch 84/160\n",
            "118/118 [==============================] - 1s 5ms/step - loss: 0.4563 - accuracy: 0.8840\n",
            "Epoch 85/160\n",
            "118/118 [==============================] - 1s 5ms/step - loss: 0.4550 - accuracy: 0.8845\n",
            "Epoch 86/160\n",
            "118/118 [==============================] - 1s 5ms/step - loss: 0.4538 - accuracy: 0.8846\n",
            "Epoch 87/160\n",
            "118/118 [==============================] - 1s 7ms/step - loss: 0.4525 - accuracy: 0.8847\n",
            "Epoch 88/160\n",
            "118/118 [==============================] - 1s 8ms/step - loss: 0.4513 - accuracy: 0.8854\n",
            "Epoch 89/160\n",
            "118/118 [==============================] - 1s 8ms/step - loss: 0.4501 - accuracy: 0.8855\n",
            "Epoch 90/160\n",
            "118/118 [==============================] - 1s 8ms/step - loss: 0.4488 - accuracy: 0.8858\n",
            "Epoch 91/160\n",
            "118/118 [==============================] - 1s 8ms/step - loss: 0.4476 - accuracy: 0.8862\n",
            "Epoch 92/160\n",
            "118/118 [==============================] - 1s 6ms/step - loss: 0.4465 - accuracy: 0.8865\n",
            "Epoch 93/160\n",
            "118/118 [==============================] - 1s 5ms/step - loss: 0.4453 - accuracy: 0.8868\n",
            "Epoch 94/160\n",
            "118/118 [==============================] - 1s 5ms/step - loss: 0.4441 - accuracy: 0.8871\n",
            "Epoch 95/160\n",
            "118/118 [==============================] - 1s 5ms/step - loss: 0.4429 - accuracy: 0.8875\n",
            "Epoch 96/160\n",
            "118/118 [==============================] - 1s 5ms/step - loss: 0.4418 - accuracy: 0.8874\n",
            "Epoch 97/160\n",
            "118/118 [==============================] - 1s 5ms/step - loss: 0.4407 - accuracy: 0.8878\n",
            "Epoch 98/160\n",
            "118/118 [==============================] - 1s 5ms/step - loss: 0.4395 - accuracy: 0.8881\n",
            "Epoch 99/160\n",
            "118/118 [==============================] - 1s 5ms/step - loss: 0.4384 - accuracy: 0.8881\n",
            "Epoch 100/160\n",
            "118/118 [==============================] - 1s 5ms/step - loss: 0.4373 - accuracy: 0.8885\n",
            "Epoch 101/160\n",
            "118/118 [==============================] - 1s 5ms/step - loss: 0.4362 - accuracy: 0.8887\n",
            "Epoch 102/160\n",
            "118/118 [==============================] - 1s 5ms/step - loss: 0.4351 - accuracy: 0.8890\n",
            "Epoch 103/160\n",
            "118/118 [==============================] - 1s 5ms/step - loss: 0.4340 - accuracy: 0.8892\n",
            "Epoch 104/160\n",
            "118/118 [==============================] - 1s 5ms/step - loss: 0.4330 - accuracy: 0.8894\n",
            "Epoch 105/160\n",
            "118/118 [==============================] - 1s 5ms/step - loss: 0.4319 - accuracy: 0.8895\n",
            "Epoch 106/160\n",
            "118/118 [==============================] - 1s 5ms/step - loss: 0.4308 - accuracy: 0.8899\n",
            "Epoch 107/160\n",
            "118/118 [==============================] - 1s 5ms/step - loss: 0.4298 - accuracy: 0.8899\n",
            "Epoch 108/160\n",
            "118/118 [==============================] - 1s 5ms/step - loss: 0.4288 - accuracy: 0.8901\n",
            "Epoch 109/160\n",
            "118/118 [==============================] - 1s 8ms/step - loss: 0.4277 - accuracy: 0.8903\n",
            "Epoch 110/160\n",
            "118/118 [==============================] - 1s 8ms/step - loss: 0.4267 - accuracy: 0.8905\n",
            "Epoch 111/160\n",
            "118/118 [==============================] - 1s 8ms/step - loss: 0.4257 - accuracy: 0.8908\n",
            "Epoch 112/160\n",
            "118/118 [==============================] - 1s 8ms/step - loss: 0.4247 - accuracy: 0.8910\n",
            "Epoch 113/160\n",
            "118/118 [==============================] - 1s 7ms/step - loss: 0.4237 - accuracy: 0.8912\n",
            "Epoch 114/160\n",
            "118/118 [==============================] - 1s 6ms/step - loss: 0.4227 - accuracy: 0.8913\n",
            "Epoch 115/160\n",
            "118/118 [==============================] - 1s 5ms/step - loss: 0.4217 - accuracy: 0.8916\n",
            "Epoch 116/160\n",
            "118/118 [==============================] - 1s 5ms/step - loss: 0.4208 - accuracy: 0.8919\n",
            "Epoch 117/160\n",
            "118/118 [==============================] - 1s 5ms/step - loss: 0.4198 - accuracy: 0.8920\n",
            "Epoch 118/160\n",
            "118/118 [==============================] - 1s 5ms/step - loss: 0.4188 - accuracy: 0.8921\n",
            "Epoch 119/160\n",
            "118/118 [==============================] - 1s 5ms/step - loss: 0.4179 - accuracy: 0.8923\n",
            "Epoch 120/160\n",
            "118/118 [==============================] - 1s 5ms/step - loss: 0.4169 - accuracy: 0.8927\n",
            "Epoch 121/160\n",
            "118/118 [==============================] - 1s 5ms/step - loss: 0.4160 - accuracy: 0.8929\n",
            "Epoch 122/160\n",
            "118/118 [==============================] - 1s 5ms/step - loss: 0.4151 - accuracy: 0.8931\n",
            "Epoch 123/160\n",
            "118/118 [==============================] - 1s 5ms/step - loss: 0.4141 - accuracy: 0.8934\n",
            "Epoch 124/160\n",
            "118/118 [==============================] - 1s 5ms/step - loss: 0.4132 - accuracy: 0.8937\n",
            "Epoch 125/160\n",
            "118/118 [==============================] - 1s 5ms/step - loss: 0.4123 - accuracy: 0.8940\n",
            "Epoch 126/160\n",
            "118/118 [==============================] - 1s 5ms/step - loss: 0.4114 - accuracy: 0.8941\n",
            "Epoch 127/160\n",
            "118/118 [==============================] - 1s 5ms/step - loss: 0.4105 - accuracy: 0.8946\n",
            "Epoch 128/160\n",
            "118/118 [==============================] - 1s 5ms/step - loss: 0.4096 - accuracy: 0.8947\n",
            "Epoch 129/160\n",
            "118/118 [==============================] - 1s 5ms/step - loss: 0.4087 - accuracy: 0.8952\n",
            "Epoch 130/160\n",
            "118/118 [==============================] - 1s 5ms/step - loss: 0.4079 - accuracy: 0.8953\n",
            "Epoch 131/160\n",
            "118/118 [==============================] - 1s 6ms/step - loss: 0.4070 - accuracy: 0.8956\n",
            "Epoch 132/160\n",
            "118/118 [==============================] - 1s 8ms/step - loss: 0.4061 - accuracy: 0.8958\n",
            "Epoch 133/160\n",
            "118/118 [==============================] - 1s 8ms/step - loss: 0.4053 - accuracy: 0.8959\n",
            "Epoch 134/160\n",
            "118/118 [==============================] - 1s 8ms/step - loss: 0.4044 - accuracy: 0.8963\n",
            "Epoch 135/160\n",
            "118/118 [==============================] - 1s 8ms/step - loss: 0.4035 - accuracy: 0.8964\n",
            "Epoch 136/160\n",
            "118/118 [==============================] - 1s 7ms/step - loss: 0.4027 - accuracy: 0.8966\n",
            "Epoch 137/160\n",
            "118/118 [==============================] - 1s 5ms/step - loss: 0.4019 - accuracy: 0.8966\n",
            "Epoch 138/160\n",
            "118/118 [==============================] - 1s 5ms/step - loss: 0.4010 - accuracy: 0.8967\n",
            "Epoch 139/160\n",
            "118/118 [==============================] - 1s 5ms/step - loss: 0.4002 - accuracy: 0.8968\n",
            "Epoch 140/160\n",
            "118/118 [==============================] - 1s 5ms/step - loss: 0.3994 - accuracy: 0.8970\n",
            "Epoch 141/160\n",
            "118/118 [==============================] - 1s 5ms/step - loss: 0.3986 - accuracy: 0.8971\n",
            "Epoch 142/160\n",
            "118/118 [==============================] - 1s 5ms/step - loss: 0.3977 - accuracy: 0.8973\n",
            "Epoch 143/160\n",
            "118/118 [==============================] - 1s 5ms/step - loss: 0.3969 - accuracy: 0.8975\n",
            "Epoch 144/160\n",
            "118/118 [==============================] - 1s 5ms/step - loss: 0.3961 - accuracy: 0.8974\n",
            "Epoch 145/160\n",
            "118/118 [==============================] - 1s 5ms/step - loss: 0.3953 - accuracy: 0.8976\n",
            "Epoch 146/160\n",
            "118/118 [==============================] - 1s 5ms/step - loss: 0.3945 - accuracy: 0.8979\n",
            "Epoch 147/160\n",
            "118/118 [==============================] - 1s 5ms/step - loss: 0.3937 - accuracy: 0.8981\n",
            "Epoch 148/160\n",
            "118/118 [==============================] - 1s 5ms/step - loss: 0.3930 - accuracy: 0.8981\n",
            "Epoch 149/160\n",
            "118/118 [==============================] - 1s 5ms/step - loss: 0.3922 - accuracy: 0.8983\n",
            "Epoch 150/160\n",
            "118/118 [==============================] - 1s 5ms/step - loss: 0.3914 - accuracy: 0.8985\n",
            "Epoch 151/160\n",
            "118/118 [==============================] - 1s 5ms/step - loss: 0.3906 - accuracy: 0.8987\n",
            "Epoch 152/160\n",
            "118/118 [==============================] - 1s 5ms/step - loss: 0.3899 - accuracy: 0.8987\n",
            "Epoch 153/160\n",
            "118/118 [==============================] - 1s 7ms/step - loss: 0.3891 - accuracy: 0.8987\n",
            "Epoch 154/160\n",
            "118/118 [==============================] - 1s 7ms/step - loss: 0.3883 - accuracy: 0.8991\n",
            "Epoch 155/160\n",
            "118/118 [==============================] - 1s 7ms/step - loss: 0.3876 - accuracy: 0.8993\n",
            "Epoch 156/160\n",
            "118/118 [==============================] - 1s 7ms/step - loss: 0.3868 - accuracy: 0.8994\n",
            "Epoch 157/160\n",
            "118/118 [==============================] - 1s 8ms/step - loss: 0.3861 - accuracy: 0.8996\n",
            "Epoch 158/160\n",
            "118/118 [==============================] - 1s 8ms/step - loss: 0.3853 - accuracy: 0.8999\n",
            "Epoch 159/160\n",
            "118/118 [==============================] - 1s 5ms/step - loss: 0.3846 - accuracy: 0.9002\n",
            "Epoch 160/160\n",
            "118/118 [==============================] - 1s 5ms/step - loss: 0.3839 - accuracy: 0.9001\n"
          ]
        },
        {
          "output_type": "execute_result",
          "data": {
            "text/plain": [
              "<keras.callbacks.History at 0x7faf4c08ffd0>"
            ]
          },
          "metadata": {},
          "execution_count": 8
        }
      ]
    },
    {
      "cell_type": "code",
      "source": [
        "test_loss, test_acc = network.evaluate(test_images, test_labels)\n",
        "print('Test Accuracy: {:.5f} '.format(test_acc))\n",
        "test_acc\n"
      ],
      "metadata": {
        "colab": {
          "base_uri": "https://localhost:8080/"
        },
        "id": "90ztcm83qvm2",
        "outputId": "a585f24f-3ffa-4fc5-c673-03fad2146166"
      },
      "execution_count": 9,
      "outputs": [
        {
          "output_type": "stream",
          "name": "stdout",
          "text": [
            "313/313 [==============================] - 1s 2ms/step - loss: 0.3742 - accuracy: 0.9022\n",
            "Test Accuracy: 0.90220 \n"
          ]
        },
        {
          "output_type": "execute_result",
          "data": {
            "text/plain": [
              "0.9021999835968018"
            ]
          },
          "metadata": {},
          "execution_count": 9
        }
      ]
    },
    {
      "cell_type": "code",
      "source": [
        "from keras.utils import plot_model\n",
        "plot_model(network, to_file='model.png')\n",
        "import matplotlib.pyplot as plt\n",
        "history =network.fit(train_images, train_labels, validation_split=0.33,epochs=5, batch_size=512)\n",
        "history_dict = history.history\n",
        "print(history_dict.keys())\n",
        "plt.plot(history.history['accuracy'])\n",
        "plt.plot(history.history['val_accuracy'])\n",
        "plt.title('Model accuracy')\n",
        "plt.ylabel('Accuracy')\n",
        "plt.xlabel('Epoch')\n",
        "plt.legend(['Train', 'Test'], loc='upper left')\n",
        "plt.show()\n",
        "\n",
        "\n",
        "# Plot training & validation loss values\n",
        "plt.plot(history.history['loss'])\n",
        "plt.plot(history.history['val_loss'])\n",
        "plt.title('Model loss')\n",
        "plt.ylabel('Loss')\n",
        "plt.xlabel('Epoch')\n",
        "plt.legend(['Train', 'Test'], loc='upper left')\n",
        "plt.show()\n"
      ],
      "metadata": {
        "colab": {
          "base_uri": "https://localhost:8080/",
          "height": 764
        },
        "id": "IKicuD81q1gH",
        "outputId": "eed7e5c9-4181-4c16-af97-44931c35df04"
      },
      "execution_count": 10,
      "outputs": [
        {
          "output_type": "stream",
          "name": "stdout",
          "text": [
            "Epoch 1/5\n",
            "79/79 [==============================] - 2s 22ms/step - loss: 0.3867 - accuracy: 0.8999 - val_loss: 0.3761 - val_accuracy: 0.9013\n",
            "Epoch 2/5\n",
            "79/79 [==============================] - 1s 10ms/step - loss: 0.3861 - accuracy: 0.9001 - val_loss: 0.3758 - val_accuracy: 0.9018\n",
            "Epoch 3/5\n",
            "79/79 [==============================] - 1s 13ms/step - loss: 0.3856 - accuracy: 0.8999 - val_loss: 0.3754 - val_accuracy: 0.9018\n",
            "Epoch 4/5\n",
            "79/79 [==============================] - 1s 15ms/step - loss: 0.3850 - accuracy: 0.9002 - val_loss: 0.3750 - val_accuracy: 0.9018\n",
            "Epoch 5/5\n",
            "79/79 [==============================] - 2s 20ms/step - loss: 0.3845 - accuracy: 0.9003 - val_loss: 0.3746 - val_accuracy: 0.9019\n",
            "dict_keys(['loss', 'accuracy', 'val_loss', 'val_accuracy'])\n"
          ]
        },
        {
          "output_type": "display_data",
          "data": {
            "text/plain": [
              "<Figure size 432x288 with 1 Axes>"
            ],
            "image/png": "[encoded data removed]"
          },
          "metadata": {
            "needs_background": "light"
          }
        },
        {
          "output_type": "display_data",
          "data": {
            "text/plain": [
              "<Figure size 432x288 with 1 Axes>"
            ],
            "image/png": "[encoded data removed]"
          },
          "metadata": {
            "needs_background": "light"
          }
        }
      ]
    }
  ]
}